{
 "cells": [
  {
   "cell_type": "code",
   "execution_count": null,
   "id": "68661e7b-f5e7-4367-aa43-17b6f49dc3dc",
   "metadata": {},
   "outputs": [
    {
     "ename": "",
     "evalue": "",
     "output_type": "error",
     "traceback": [
      "\u001b[1;31mThe kernel failed to start as the Python Environment '.conda (Python -1.-1.-1)' is no longer available. Consider selecting another kernel or refreshing the list of Python Environments."
     ]
    }
   ],
   "source": [
    "# Importing Libs\n",
    "from sklearn.feature_extraction.text import CountVectorizer\n",
    "from sklearn.metrics.pairwise import cosine_similarity\n",
    "import re\n",
    "import os\n",
    "from docx import Document\n",
    "import PyPDF2"
   ]
  },
  {
   "cell_type": "code",
   "execution_count": null,
   "id": "10355fc2-7ddd-4601-9c86-321f57137728",
   "metadata": {},
   "outputs": [],
   "source": [
    "# Function removes special characters and converts the text to lowercase\n",
    "def preprocess_text(text):\n",
    "    # Remove special characters and numbers and replacing with space \" \"\n",
    "    text = re.sub(r'[^a-zA-Z\\s]', '', text)\n",
    "    # Convert to lowercase\n",
    "    return text.lower()"
   ]
  },
  {
   "cell_type": "code",
   "execution_count": null,
   "id": "f50381f0-62c1-43d3-9396-497bf87d14f1",
   "metadata": {},
   "outputs": [],
   "source": [
    "def get_resume_score(resume, job_description):\n",
    "    # Preprocess the texts\n",
    "    resume = preprocess_text(resume)\n",
    "    job_description = preprocess_text(job_description)\n",
    "\n",
    "    # Combine resume and job description in a list\n",
    "    text = [resume, job_description]\n",
    "\n",
    "    # Create CountVectorizer object\n",
    "    cv = CountVectorizer(stop_words='english')\n",
    "    count_matrix = cv.fit_transform(text)\n",
    "\n",
    "    # Calculate cosine similarity\n",
    "    match_percentage = cosine_similarity(count_matrix)[0][1] * 100\n",
    "    return round(match_percentage, 2)"
   ]
  },
  {
   "cell_type": "code",
   "execution_count": null,
   "id": "2d91b102-bb6f-4c7f-895d-8a876f0dd290",
   "metadata": {},
   "outputs": [],
   "source": [
    "def read_file(folder_path, file_name):\n",
    "    docx_path = os.path.join(folder_path, f\"{file_name}.docx\")\n",
    "    pdf_path = os.path.join(folder_path, f\"{file_name}.pdf\")\n",
    "\n",
    "    if os.path.exists(docx_path):\n",
    "        doc = Document(docx_path)\n",
    "        return ' '.join([paragraph.text for paragraph in doc.paragraphs])\n",
    "    elif os.path.exists(pdf_path):\n",
    "        with open(pdf_path, 'rb') as file:\n",
    "            reader = PyPDF2.PdfReader(file)\n",
    "            return ' '.join([page.extract_text() for page in reader.pages])\n",
    "    else:\n",
    "        raise FileNotFoundError(f\"No DOCX or PDF file found for {file_name}\")"
   ]
  },
  {
   "cell_type": "code",
   "execution_count": null,
   "id": "887ddc31-5c12-4f79-af7f-a3ba21a06c98",
   "metadata": {},
   "outputs": [],
   "source": [
    "folder_path = 'C:\\\\Users\\kusha\\Kushal Guraza\\OneDrive\\Desktop\\PROJECTS\\ATSScoreProject'\n",
    "try:\n",
    "    resume = read_file(folder_path, 'resume')\n",
    "    job_description = read_file(folder_path, 'JD')\n",
    "    print(\"Files read successfully\")\n",
    "except FileNotFoundError as e:\n",
    "    print(f\"Error: {e}\")"
   ]
  },
  {
   "cell_type": "code",
   "execution_count": null,
   "id": "6ff9973b-bb9b-4406-b279-264d44517743",
   "metadata": {},
   "outputs": [],
   "source": [
    "score = get_resume_score(resume, job_description)\n",
    "print(f\"Your resume matches about {score}% of the job description.\")"
   ]
  },
  {
   "cell_type": "code",
   "execution_count": null,
   "id": "77acec15-1658-4c0e-a47a-f8cde9f7bf87",
   "metadata": {},
   "outputs": [],
   "source": []
  },
  {
   "cell_type": "code",
   "execution_count": null,
   "id": "3d3278e8-d2ef-4eb8-adb6-0e68aa7668b2",
   "metadata": {},
   "outputs": [],
   "source": []
  },
  {
   "cell_type": "code",
   "execution_count": null,
   "id": "7d58239e-85a4-4989-a13f-3b1c53e1551f",
   "metadata": {},
   "outputs": [],
   "source": []
  },
  {
   "cell_type": "code",
   "execution_count": null,
   "id": "3ca865af-26a7-4d1d-aea3-9edd5f3dc896",
   "metadata": {},
   "outputs": [],
   "source": [
    "\n",
    "\n",
    "\n",
    "\n",
    "\n",
    "\n"
   ]
  },
  {
   "cell_type": "code",
   "execution_count": null,
   "id": "1cfc6a75-2d66-4d1c-bddc-04ef0684d8aa",
   "metadata": {},
   "outputs": [],
   "source": []
  },
  {
   "cell_type": "code",
   "execution_count": null,
   "id": "7504ddd2-f347-4208-9cfd-8a6f1befc3a7",
   "metadata": {},
   "outputs": [],
   "source": []
  }
 ],
 "metadata": {
  "kernelspec": {
   "display_name": ".conda",
   "language": "python",
   "name": "python3"
  },
  "language_info": {
   "codemirror_mode": {
    "name": "ipython",
    "version": 3
   },
   "file_extension": ".py",
   "mimetype": "text/x-python",
   "name": "python",
   "nbconvert_exporter": "python",
   "pygments_lexer": "ipython3",
   "version": "3.8.20"
  }
 },
 "nbformat": 4,
 "nbformat_minor": 5
}
